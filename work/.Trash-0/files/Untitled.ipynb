{
 "cells": [
  {
   "cell_type": "code",
   "execution_count": 2,
   "id": "efc94f41-a9db-4f68-a286-503bfc2b7536",
   "metadata": {},
   "outputs": [
    {
     "ename": "NameError",
     "evalue": "name 'db_password' is not defined",
     "output_type": "error",
     "traceback": [
      "\u001b[0;31m---------------------------------------------------------------------------\u001b[0m",
      "\u001b[0;31mNameError\u001b[0m                                 Traceback (most recent call last)",
      "Cell \u001b[0;32mIn[2], line 11\u001b[0m\n\u001b[1;32m      8\u001b[0m db_name \u001b[38;5;241m=\u001b[39m \u001b[38;5;124m'\u001b[39m\u001b[38;5;124mmaterial_db\u001b[39m\u001b[38;5;124m'\u001b[39m\n\u001b[1;32m     10\u001b[0m \u001b[38;5;66;03m# PostgreSQLの接続URIを作成\u001b[39;00m\n\u001b[0;32m---> 11\u001b[0m db_uri \u001b[38;5;241m=\u001b[39m \u001b[38;5;124mf\u001b[39m\u001b[38;5;124m\"\u001b[39m\u001b[38;5;124mpostgresql://\u001b[39m\u001b[38;5;132;01m{\u001b[39;00mdb_user\u001b[38;5;132;01m}\u001b[39;00m\u001b[38;5;124m:\u001b[39m\u001b[38;5;132;01m{\u001b[39;00mdb_password\u001b[38;5;132;01m}\u001b[39;00m\u001b[38;5;124m@\u001b[39m\u001b[38;5;132;01m{\u001b[39;00mdb_host\u001b[38;5;132;01m}\u001b[39;00m\u001b[38;5;124m:\u001b[39m\u001b[38;5;132;01m{\u001b[39;00mdb_port\u001b[38;5;132;01m}\u001b[39;00m\u001b[38;5;124m/\u001b[39m\u001b[38;5;132;01m{\u001b[39;00mdb_name\u001b[38;5;132;01m}\u001b[39;00m\u001b[38;5;124m\"\u001b[39m\n\u001b[1;32m     13\u001b[0m \u001b[38;5;66;03m# SQLAlchemyを使用してエンジンを作成し、データベースからデータを読み込む\u001b[39;00m\n\u001b[1;32m     14\u001b[0m engine \u001b[38;5;241m=\u001b[39m create_engine(db_uri)\n",
      "\u001b[0;31mNameError\u001b[0m: name 'db_password' is not defined"
     ]
    }
   ],
   "source": [
    "import pandas as pd\n",
    "from sqlalchemy import create_engine\n",
    "\n",
    "db_user = 'valley3'\n",
    "db_password_file = './postgres_password.txt'\n",
    "db_host = 'postgres'  # Dockerコンテナ内のPostgreSQLサービス名を指定します。\n",
    "db_port = '5432'  # PostgreSQLのデフォルトポートは5432です。\n",
    "db_name = 'material_db'\n",
    "\n",
    "# PostgreSQLの接続URIを作成\n",
    "db_uri = f\"postgresql://{db_user}:{db_password}@{db_host}:{db_port}/{db_name}\"\n",
    "\n",
    "# SQLAlchemyを使用してエンジンを作成し、データベースからデータを読み込む\n",
    "engine = create_engine(db_uri)\n",
    "\n",
    "# データを読み込むSQLクエリを作成（ここでは全てのデータを読み込む例）\n",
    "sql_query = \"SELECT * FROM material_db\"\n",
    "\n",
    "# SQLクエリを実行し、データをDataFrameとして読み込む\n",
    "df_from_db = pd.read_sql(sql_query, con=engine)\n",
    "\n",
    "# 接続を閉じる\n",
    "engine.dispose()\n",
    "\n",
    "# 読み込んだデータを確認する\n",
    "df_from_db"
   ]
  },
  {
   "cell_type": "code",
   "execution_count": null,
   "id": "5428e536-abc8-4c1f-b928-af650219e2f0",
   "metadata": {},
   "outputs": [],
   "source": []
  }
 ],
 "metadata": {
  "kernelspec": {
   "display_name": "Python 3 (ipykernel)",
   "language": "python",
   "name": "python3"
  },
  "language_info": {
   "codemirror_mode": {
    "name": "ipython",
    "version": 3
   },
   "file_extension": ".py",
   "mimetype": "text/x-python",
   "name": "python",
   "nbconvert_exporter": "python",
   "pygments_lexer": "ipython3",
   "version": "3.11.8"
  }
 },
 "nbformat": 4,
 "nbformat_minor": 5
}
