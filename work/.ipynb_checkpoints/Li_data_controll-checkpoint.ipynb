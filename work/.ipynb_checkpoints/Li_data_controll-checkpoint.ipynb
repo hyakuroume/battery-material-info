{
 "cells": [
  {
   "cell_type": "code",
   "execution_count": 1,
   "id": "0e1665b1-939d-4f21-8e6f-507432c12910",
   "metadata": {},
   "outputs": [
    {
     "name": "stdout",
     "output_type": "stream",
     "text": [
      "\u001b[33mWARNING: Running pip as the 'root' user can result in broken permissions and conflicting behaviour with the system package manager. It is recommended to use a virtual environment instead: https://pip.pypa.io/warnings/venv\u001b[0m\u001b[33m\n",
      "\u001b[0m"
     ]
    }
   ],
   "source": [
    "!pip install -q  mp_api"
   ]
  },
  {
   "cell_type": "code",
   "execution_count": null,
   "id": "806839a8-55f6-4d5d-bdd4-816d21cc0439",
   "metadata": {},
   "outputs": [
    {
     "name": "stdout",
     "output_type": "stream",
     "text": [
      "Retrieving notices: ...working... done\n",
      "Channels:\n",
      " - conda-forge\n",
      " - defaults\n",
      "Platform: linux-64\n",
      "Collecting package metadata (repodata.json): done\n",
      "Solving environment: "
     ]
    }
   ],
   "source": [
    "!conda install -c conda-forge phonopy phonopy　mp_api"
   ]
  },
  {
   "cell_type": "code",
   "execution_count": null,
   "id": "65d50347-4a4a-479c-9810-f5be673a16ab",
   "metadata": {},
   "outputs": [],
   "source": [
    "from mp_api.client import MPRester"
   ]
  },
  {
   "cell_type": "code",
   "execution_count": null,
   "id": "55fac516-0c6d-4209-b05f-48f57018318d",
   "metadata": {},
   "outputs": [],
   "source": [
    "# API_KEYを読み込む\n",
    "with open(\"MaterialsAPI_key.txt\", \"r\") as file: # MaterialsAPI_key.txt へのパスは自分の環境に合わせて変更する\n",
    "    API_KEY = file.read()"
   ]
  },
  {
   "cell_type": "code",
   "execution_count": null,
   "id": "97a250c3-b24f-4d0a-b52d-419fcd603d98",
   "metadata": {},
   "outputs": [],
   "source": [
    "#API_KEYの設定\n",
    "mpr = MPRester(API_KEY)"
   ]
  },
  {
   "cell_type": "code",
   "execution_count": null,
   "id": "b9ad8ace-dc05-45df-89d8-bc8783d1ae10",
   "metadata": {},
   "outputs": [],
   "source": [
    "# battery explorerから取得できるデータの一覧\n",
    "mpr.materials.insertion_electrodes.available_fields"
   ]
  },
  {
   "cell_type": "code",
   "execution_count": null,
   "id": "49394936-0bdb-42bf-9f31-2a8d60cdc0e9",
   "metadata": {},
   "outputs": [],
   "source": [
    "# Liイオンを含むデータを取得\n",
    "Li_dataset = mpr.materials.insertion_electrodes.search(working_ion=\"Li\")"
   ]
  },
  {
   "cell_type": "code",
   "execution_count": 18,
   "id": "e72d2f76-b51e-4500-838e-daaf2dce2868",
   "metadata": {},
   "outputs": [
    {
     "data": {
      "text/plain": [
       "2440"
      ]
     },
     "execution_count": 18,
     "metadata": {},
     "output_type": "execute_result"
    }
   ],
   "source": [
    "# 取得したデータ数\n",
    "len(Li_dataset)"
   ]
  },
  {
   "cell_type": "code",
   "execution_count": 19,
   "id": "1b7cad6a-f4f9-41a4-9603-4cb57b4ce9c5",
   "metadata": {},
   "outputs": [
    {
     "data": {
      "text/plain": [
       "dict_keys(['battery_type', 'battery_id', 'thermo_type', 'battery_formula', 'working_ion', 'num_steps', 'max_voltage_step', 'last_updated', 'framework', 'framework_formula', 'elements', 'nelements', 'chemsys', 'formula_anonymous', 'warnings', 'formula_charge', 'formula_discharge', 'max_delta_volume', 'average_voltage', 'capacity_grav', 'capacity_vol', 'energy_grav', 'energy_vol', 'fracA_charge', 'fracA_discharge', 'stability_charge', 'stability_discharge', 'id_charge', 'id_discharge', 'host_structure', 'adj_pairs', 'material_ids', 'entries_composition_summary', 'electrode_object', 'fields_not_requested'])"
      ]
     },
     "execution_count": 19,
     "metadata": {},
     "output_type": "execute_result"
    }
   ],
   "source": [
    "# 取得したデータからデータフレーム用の列名を作成\n",
    "columns = Li_dataset[0].dict().keys()\n",
    "columns"
   ]
  },
  {
   "cell_type": "code",
   "execution_count": null,
   "id": "b00336b8-29a8-443e-9993-a53de88f9fc7",
   "metadata": {},
   "outputs": [],
   "source": [
    "# データフレームに格納するデータの準備\n",
    "Li_data = []\n",
    "\n",
    "for i in range(len(Li_dataset)):\n",
    "    Li_value = Li_dataset[i].dict().values()\n",
    "    Li_data.append(Li_value)"
   ]
  },
  {
   "cell_type": "code",
   "execution_count": null,
   "id": "ea50afb0-4f51-4f4d-9d0c-44073ceadff4",
   "metadata": {},
   "outputs": [],
   "source": [
    "# 取得したデータをデータフレームに格納\n",
    "import pandas as pd\n",
    "\n",
    "df = pd.DataFrame(Li_data, columns=columns)\n",
    "df.head()"
   ]
  },
  {
   "cell_type": "code",
   "execution_count": null,
   "id": "72f5e4a2-fd6b-4912-b195-18e416e8ba97",
   "metadata": {},
   "outputs": [],
   "source": [
    "# データ確認\n",
    "df.shape"
   ]
  },
  {
   "cell_type": "code",
   "execution_count": null,
   "id": "d6517ba7-f321-4d20-92a9-381bd001be5b",
   "metadata": {},
   "outputs": [],
   "source": [
    "# データ情報\n",
    "df.info()"
   ]
  },
  {
   "cell_type": "code",
   "execution_count": null,
   "id": "21c427e9-25d1-48ce-bc60-0dbb13bdeccc",
   "metadata": {},
   "outputs": [],
   "source": [
    "# データ保存\n",
    "clean_df.to_csv(\"Li_battery_data.csv\",index=False)"
   ]
  }
 ],
 "metadata": {
  "kernelspec": {
   "display_name": "Python 3 (ipykernel)",
   "language": "python",
   "name": "python3"
  },
  "language_info": {
   "codemirror_mode": {
    "name": "ipython",
    "version": 3
   },
   "file_extension": ".py",
   "mimetype": "text/x-python",
   "name": "python",
   "nbconvert_exporter": "python",
   "pygments_lexer": "ipython3",
   "version": "3.11.8"
  }
 },
 "nbformat": 4,
 "nbformat_minor": 5
}
